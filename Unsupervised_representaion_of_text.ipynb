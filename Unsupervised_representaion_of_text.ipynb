{
 "cells": [
  {
   "cell_type": "code",
   "execution_count": 3,
   "metadata": {
    "colab": {
     "base_uri": "https://localhost:8080/"
    },
    "id": "HVrOQGL0zCAx",
    "outputId": "0643c86f-34f9-49f2-b581-a92b533b233a"
   },
   "outputs": [
    {
     "name": "stdout",
     "output_type": "stream",
     "text": [
      "Mounted at /content/drive\n"
     ]
    }
   ],
   "source": [
    "from google.colab import drive\n",
    "drive.mount('/content/drive')"
   ]
  },
  {
   "cell_type": "code",
   "execution_count": 1,
   "metadata": {
    "id": "Jktc5vu4zS1O"
   },
   "outputs": [],
   "source": [
    "import numpy as np\n",
    "import pandas as pd\n",
    "from io import open\n",
    "import unicodedata\n",
    "import string\n",
    "import re\n",
    "import random"
   ]
  },
  {
   "cell_type": "markdown",
   "metadata": {
    "id": "rqA2JkxP7BcS"
   },
   "source": [
    "# Loading and preprocessing the data set"
   ]
  },
  {
   "cell_type": "code",
   "execution_count": 2,
   "metadata": {
    "id": "k39imsh5z222"
   },
   "outputs": [],
   "source": [
    "f_train = open('drive/MyDrive/yelp/train.txt')"
   ]
  },
  {
   "cell_type": "code",
   "execution_count": 3,
   "metadata": {
    "id": "aWGSYh2__GUU"
   },
   "outputs": [],
   "source": [
    "x_train=[]\n",
    "for line in f_train:\n",
    "  l=[]\n",
    "  line = line.split()\n",
    "  line.pop()\n",
    "  line.append('EOS')\n",
    "  line.insert(0,'SOS')\n",
    "  size = len(line)\n",
    "  for word in line:\n",
    "    l.append(word)\n",
    "  while(size<16):\n",
    "    l.append('PAD')\n",
    "    size+=1\n",
    "  x_train.append(l)\n"
   ]
  },
  {
   "cell_type": "code",
   "execution_count": 4,
   "metadata": {
    "id": "0XEfsdJhwP8A"
   },
   "outputs": [],
   "source": [
    "x_train = x_train[:50000]  #taking only first 500000 because of limited computational resources"
   ]
  },
  {
   "cell_type": "code",
   "execution_count": 5,
   "metadata": {
    "id": "wRnzdJXS0WT8"
   },
   "outputs": [],
   "source": [
    "PAD_token=0\n",
    "SOS_token = 1\n",
    "EOS_token = 2\n",
    "\n",
    "\n",
    "class Lang:\n",
    "    def __init__(self, name):\n",
    "        self.name = name\n",
    "        self.word2index = {}\n",
    "        self.word2count = {}\n",
    "        self.index2word = {0:\"PAD\", 1: \"SOS\", 2: \"EOS\"}\n",
    "        self.n_words = 2  # Count SOS and EOS\n",
    "        self.max_len=0\n",
    "\n",
    "    def addSentence(self, sentence):\n",
    "        sentence_length =0\n",
    "        for word in sentence:\n",
    "            self.addWord(word)\n",
    "            sentence_length+=1\n",
    "        if sentence_length> self.max_len:\n",
    "            self.max_len = sentence_length\n",
    "\n",
    "    def addWord(self, word):\n",
    "        if word not in self.word2index:\n",
    "            self.word2index[word] = self.n_words\n",
    "            self.word2count[word] = 1\n",
    "            self.index2word[self.n_words] = word\n",
    "            self.n_words += 1\n",
    "        else:\n",
    "            self.word2count[word] += 1"
   ]
  },
  {
   "cell_type": "code",
   "execution_count": 6,
   "metadata": {
    "id": "M6PfR6RS1Y0o"
   },
   "outputs": [],
   "source": [
    "obj = Lang('vocab')"
   ]
  },
  {
   "cell_type": "code",
   "execution_count": 7,
   "metadata": {
    "id": "PhwYvoM407tc"
   },
   "outputs": [],
   "source": [
    "for line in x_train:\n",
    "  obj.addSentence(line)"
   ]
  },
  {
   "cell_type": "code",
   "execution_count": 8,
   "metadata": {
    "id": "yxSphyi-RBAv"
   },
   "outputs": [],
   "source": [
    "sort_orders = sorted(obj.word2count.items(), key=lambda x: x[1],reverse=True)     #sorted vocab"
   ]
  },
  {
   "cell_type": "code",
   "execution_count": 9,
   "metadata": {
    "id": "9WjNsAdpRI_e"
   },
   "outputs": [],
   "source": [
    "k=400                 #limiting vocab size because of computational resource limitation"
   ]
  },
  {
   "cell_type": "code",
   "execution_count": 10,
   "metadata": {
    "id": "TFZf_S4jRJDF"
   },
   "outputs": [],
   "source": [
    "\n",
    "dict_index ={}\n",
    "for i in range(len(sort_orders)):\n",
    "  dict_index[sort_orders[i][0]] =i\n"
   ]
  },
  {
   "cell_type": "code",
   "execution_count": 11,
   "metadata": {
    "id": "RR2TipR3RJGT"
   },
   "outputs": [],
   "source": [
    "vectors = np.zeros((len(sort_orders),k+1))"
   ]
  },
  {
   "cell_type": "code",
   "execution_count": 12,
   "metadata": {
    "id": "YymX0QwbRJKE"
   },
   "outputs": [],
   "source": [
    "oov_vector = np.zeros((k+1))                           # for OOV tokens\n",
    "oov_vector[k] =1"
   ]
  },
  {
   "cell_type": "code",
   "execution_count": 13,
   "metadata": {
    "id": "71DVXURRRJMh"
   },
   "outputs": [],
   "source": [
    "for i in range(k):\n",
    "  vectors[i][i] =1\n",
    "for i in range(k,len(sort_orders)):\n",
    "  vectors[i] = oov_vector"
   ]
  },
  {
   "cell_type": "markdown",
   "metadata": {
    "id": "x9ebH6ar7mNQ"
   },
   "source": [
    "one hot vector representation"
   ]
  },
  {
   "cell_type": "code",
   "execution_count": 14,
   "metadata": {
    "id": "lMu-nADqRJPd"
   },
   "outputs": [],
   "source": [
    "encoder_input=[]\n",
    "decoder_output=[]\n",
    "for i in range(len(x_train)):\n",
    "  e=[]\n",
    "  x = x_train[i]\n",
    "  size = len(x)\n",
    "  for j in x:\n",
    "    index = dict_index[j]\n",
    "    e.append(np.array(vectors[index]))\n",
    "\n",
    "  ee = e[1:]\n",
    "  ee.append(np.array(vectors[0]))\n",
    "  encoder_input.append(np.array(e))\n",
    "  decoder_output.append(np.array(ee))"
   ]
  },
  {
   "cell_type": "code",
   "execution_count": 15,
   "metadata": {
    "id": "eTyctBYjRJVD"
   },
   "outputs": [],
   "source": [
    "encoder_input = np.array(encoder_input)"
   ]
  },
  {
   "cell_type": "code",
   "execution_count": 16,
   "metadata": {
    "colab": {
     "base_uri": "https://localhost:8080/"
    },
    "id": "OtEjIYbORJYD",
    "outputId": "562eabf0-7f6a-47ca-a8de-59de7d742da7"
   },
   "outputs": [
    {
     "data": {
      "text/plain": [
       "(50000, 16, 401)"
      ]
     },
     "execution_count": 16,
     "metadata": {
      "tags": []
     },
     "output_type": "execute_result"
    }
   ],
   "source": [
    "encoder_input.shape"
   ]
  },
  {
   "cell_type": "code",
   "execution_count": 17,
   "metadata": {
    "id": "EnTL-8jgSUsJ"
   },
   "outputs": [],
   "source": [
    "decoder_input = encoder_input"
   ]
  },
  {
   "cell_type": "code",
   "execution_count": 18,
   "metadata": {
    "id": "ew7eZ_8azHp9"
   },
   "outputs": [],
   "source": [
    "decoder_output = np.array(decoder_output)"
   ]
  },
  {
   "cell_type": "code",
   "execution_count": 19,
   "metadata": {
    "colab": {
     "base_uri": "https://localhost:8080/"
    },
    "id": "PTw2pT_4zfyw",
    "outputId": "1ea8e370-564c-42a9-ae98-b077d4f920b8"
   },
   "outputs": [
    {
     "data": {
      "text/plain": [
       "(50000, 16, 401)"
      ]
     },
     "execution_count": 19,
     "metadata": {
      "tags": []
     },
     "output_type": "execute_result"
    }
   ],
   "source": [
    "decoder_output.shape"
   ]
  },
  {
   "cell_type": "markdown",
   "metadata": {
    "id": "f3ZKFO0j7u17"
   },
   "source": [
    "# Model"
   ]
  },
  {
   "cell_type": "code",
   "execution_count": 20,
   "metadata": {
    "id": "mfY1NF3GCT8Y"
   },
   "outputs": [],
   "source": [
    "from numpy import array\n",
    "from keras.models import Sequential\n",
    "from keras.layers import LSTM\n",
    "from keras.layers import Dense\n",
    "from keras.layers import RepeatVector\n",
    "from keras.layers import TimeDistributed\n",
    "from keras.layers.embeddings import Embedding"
   ]
  },
  {
   "cell_type": "code",
   "execution_count": 21,
   "metadata": {
    "id": "RKVLZvF0POWJ"
   },
   "outputs": [],
   "source": [
    "batch_size = 64  # Batch size for training.\n",
    "epochs = 50 # Number of epochs to train for.\n",
    "latent_dim = 100  # Latent dimensionality of the encoding space.\n",
    "num_samples = 50000"
   ]
  },
  {
   "cell_type": "code",
   "execution_count": 22,
   "metadata": {
    "id": "kwjaX9IxzzSh"
   },
   "outputs": [],
   "source": [
    "num_decoder_tokens=k+1\n",
    "num_encoder_tokens=k+1"
   ]
  },
  {
   "cell_type": "code",
   "execution_count": 23,
   "metadata": {
    "id": "1P5EYnsSPObl"
   },
   "outputs": [],
   "source": [
    "from keras.layers import LSTM,Bidirectional,Input,Concatenate\n",
    "from keras.models import Model\n",
    "\n",
    "n_units =latent_dim\n",
    "n_input = num_encoder_tokens\n",
    "n_output = num_decoder_tokens\n",
    "\n",
    "# encoder\n",
    "encoder_inputs = Input(shape=(None, n_input))\n",
    "encoder = Bidirectional(LSTM(n_units, return_state=True))\n",
    "encoder_outputs, forward_h, forward_c, backward_h, backward_c = encoder(encoder_inputs)\n",
    "state_h = Concatenate()([forward_h, backward_h])\n",
    "state_c = Concatenate()([forward_c, backward_c])\n",
    "encoder_states = [state_h, state_c]\n",
    "\n",
    "# decoder\n",
    "decoder_inputs = Input(shape=(None, n_output))    \n",
    "decoder_lstm = LSTM(n_units*2, return_sequences=True, return_state=True)\n",
    "decoder_outputs, _, _ = decoder_lstm(decoder_inputs, initial_state=encoder_states)\n",
    "decoder_dense = Dense(n_output, activation='softmax')\n",
    "decoder_outputs = decoder_dense(decoder_outputs)\n",
    "model_bi = Model([encoder_inputs, decoder_inputs], decoder_outputs)"
   ]
  },
  {
   "cell_type": "code",
   "execution_count": 24,
   "metadata": {
    "colab": {
     "base_uri": "https://localhost:8080/"
    },
    "id": "Hc_FD20pz-u7",
    "outputId": "c36e2705-ffbf-422c-b636-d3b342ce2ea9"
   },
   "outputs": [
    {
     "name": "stdout",
     "output_type": "stream",
     "text": [
      "Epoch 1/40\n",
      "625/625 [==============================] - 34s 16ms/step - loss: 2.7331 - accuracy: 0.5431 - val_loss: 1.9244 - val_accuracy: 0.6422\n",
      "Epoch 2/40\n",
      "625/625 [==============================] - 8s 13ms/step - loss: 1.7489 - accuracy: 0.6718 - val_loss: 1.3448 - val_accuracy: 0.7367\n",
      "Epoch 3/40\n",
      "625/625 [==============================] - 8s 12ms/step - loss: 1.2256 - accuracy: 0.7572 - val_loss: 1.0053 - val_accuracy: 0.7930\n",
      "Epoch 4/40\n",
      "625/625 [==============================] - 8s 13ms/step - loss: 0.8994 - accuracy: 0.8125 - val_loss: 0.7573 - val_accuracy: 0.8408\n",
      "Epoch 5/40\n",
      "625/625 [==============================] - 8s 13ms/step - loss: 0.6577 - accuracy: 0.8567 - val_loss: 0.5483 - val_accuracy: 0.8789\n",
      "Epoch 6/40\n",
      "625/625 [==============================] - 8s 12ms/step - loss: 0.4829 - accuracy: 0.8921 - val_loss: 0.4309 - val_accuracy: 0.9028\n",
      "Epoch 7/40\n",
      "625/625 [==============================] - 8s 12ms/step - loss: 0.3624 - accuracy: 0.9167 - val_loss: 0.3346 - val_accuracy: 0.9225\n",
      "Epoch 8/40\n",
      "625/625 [==============================] - 8s 13ms/step - loss: 0.2729 - accuracy: 0.9368 - val_loss: 0.2641 - val_accuracy: 0.9377\n",
      "Epoch 9/40\n",
      "625/625 [==============================] - 8s 13ms/step - loss: 0.2085 - accuracy: 0.9515 - val_loss: 0.2248 - val_accuracy: 0.9470\n",
      "Epoch 10/40\n",
      "625/625 [==============================] - 8s 12ms/step - loss: 0.1607 - accuracy: 0.9629 - val_loss: 0.1906 - val_accuracy: 0.9538\n",
      "Epoch 11/40\n",
      "625/625 [==============================] - 8s 12ms/step - loss: 0.1266 - accuracy: 0.9710 - val_loss: 0.1516 - val_accuracy: 0.9628\n",
      "Epoch 12/40\n",
      "625/625 [==============================] - 8s 13ms/step - loss: 0.1006 - accuracy: 0.9773 - val_loss: 0.1350 - val_accuracy: 0.9656\n",
      "Epoch 13/40\n",
      "625/625 [==============================] - 8s 13ms/step - loss: 0.0835 - accuracy: 0.9814 - val_loss: 0.1223 - val_accuracy: 0.9683\n",
      "Epoch 14/40\n",
      "625/625 [==============================] - 8s 13ms/step - loss: 0.0683 - accuracy: 0.9851 - val_loss: 0.1049 - val_accuracy: 0.9726\n",
      "Epoch 15/40\n",
      "625/625 [==============================] - 8s 12ms/step - loss: 0.0565 - accuracy: 0.9878 - val_loss: 0.0953 - val_accuracy: 0.9757\n",
      "Epoch 16/40\n",
      "625/625 [==============================] - 8s 13ms/step - loss: 0.0486 - accuracy: 0.9899 - val_loss: 0.0918 - val_accuracy: 0.9758\n",
      "Epoch 17/40\n",
      "625/625 [==============================] - 8s 13ms/step - loss: 0.0415 - accuracy: 0.9917 - val_loss: 0.0801 - val_accuracy: 0.9789\n",
      "Epoch 18/40\n",
      "625/625 [==============================] - 8s 13ms/step - loss: 0.0369 - accuracy: 0.9925 - val_loss: 0.0764 - val_accuracy: 0.9797\n",
      "Epoch 19/40\n",
      "625/625 [==============================] - 8s 13ms/step - loss: 0.0322 - accuracy: 0.9937 - val_loss: 0.0771 - val_accuracy: 0.9791\n",
      "Epoch 20/40\n",
      "625/625 [==============================] - 8s 12ms/step - loss: 0.0286 - accuracy: 0.9943 - val_loss: 0.0734 - val_accuracy: 0.9804\n",
      "Epoch 21/40\n",
      "625/625 [==============================] - 8s 13ms/step - loss: 0.0265 - accuracy: 0.9948 - val_loss: 0.0666 - val_accuracy: 0.9821\n",
      "Epoch 22/40\n",
      "625/625 [==============================] - 8s 13ms/step - loss: 0.0244 - accuracy: 0.9952 - val_loss: 0.0626 - val_accuracy: 0.9828\n",
      "Epoch 23/40\n",
      "625/625 [==============================] - 8s 13ms/step - loss: 0.0194 - accuracy: 0.9965 - val_loss: 0.0639 - val_accuracy: 0.9818\n",
      "Epoch 24/40\n",
      "625/625 [==============================] - 8s 13ms/step - loss: 0.0191 - accuracy: 0.9964 - val_loss: 0.0579 - val_accuracy: 0.9839\n",
      "Epoch 25/40\n",
      "625/625 [==============================] - 8s 13ms/step - loss: 0.0183 - accuracy: 0.9964 - val_loss: 0.0529 - val_accuracy: 0.9850\n",
      "Epoch 26/40\n",
      "625/625 [==============================] - 8s 13ms/step - loss: 0.0162 - accuracy: 0.9971 - val_loss: 0.0497 - val_accuracy: 0.9861\n",
      "Epoch 27/40\n",
      "625/625 [==============================] - 8s 12ms/step - loss: 0.0149 - accuracy: 0.9973 - val_loss: 0.0562 - val_accuracy: 0.9840\n",
      "Epoch 28/40\n",
      "625/625 [==============================] - 7s 12ms/step - loss: 0.0153 - accuracy: 0.9970 - val_loss: 0.0605 - val_accuracy: 0.9829\n",
      "Epoch 29/40\n",
      "625/625 [==============================] - 8s 12ms/step - loss: 0.0155 - accuracy: 0.9969 - val_loss: 0.0482 - val_accuracy: 0.9863\n",
      "Epoch 30/40\n",
      "625/625 [==============================] - 8s 12ms/step - loss: 0.0110 - accuracy: 0.9980 - val_loss: 0.0519 - val_accuracy: 0.9852\n",
      "Epoch 31/40\n",
      "625/625 [==============================] - 8s 12ms/step - loss: 0.0126 - accuracy: 0.9976 - val_loss: 0.0482 - val_accuracy: 0.9864\n",
      "Epoch 32/40\n",
      "625/625 [==============================] - 8s 12ms/step - loss: 0.0123 - accuracy: 0.9976 - val_loss: 0.0430 - val_accuracy: 0.9877\n",
      "Epoch 33/40\n",
      "625/625 [==============================] - 8s 12ms/step - loss: 0.0107 - accuracy: 0.9980 - val_loss: 0.0409 - val_accuracy: 0.9881\n",
      "Epoch 34/40\n",
      "625/625 [==============================] - 8s 12ms/step - loss: 0.0084 - accuracy: 0.9985 - val_loss: 0.0510 - val_accuracy: 0.9854\n",
      "Epoch 35/40\n",
      "625/625 [==============================] - 8s 12ms/step - loss: 0.0108 - accuracy: 0.9980 - val_loss: 0.0474 - val_accuracy: 0.9864\n",
      "Epoch 36/40\n",
      "625/625 [==============================] - 8s 12ms/step - loss: 0.0101 - accuracy: 0.9981 - val_loss: 0.0423 - val_accuracy: 0.9877\n",
      "Epoch 37/40\n",
      "625/625 [==============================] - 7s 12ms/step - loss: 0.0074 - accuracy: 0.9987 - val_loss: 0.0420 - val_accuracy: 0.9879\n",
      "Epoch 38/40\n",
      "625/625 [==============================] - 8s 12ms/step - loss: 0.0078 - accuracy: 0.9986 - val_loss: 0.0393 - val_accuracy: 0.9886\n",
      "Epoch 39/40\n",
      "625/625 [==============================] - 8s 12ms/step - loss: 0.0064 - accuracy: 0.9989 - val_loss: 0.0422 - val_accuracy: 0.9879\n",
      "Epoch 40/40\n",
      "625/625 [==============================] - 8s 12ms/step - loss: 0.0076 - accuracy: 0.9986 - val_loss: 0.0416 - val_accuracy: 0.9883\n"
     ]
    }
   ],
   "source": [
    "model_bi.compile(\n",
    "    optimizer=\"adam\", loss=\"categorical_crossentropy\", metrics=[\"accuracy\"]\n",
    ")\n",
    "history = model_bi.fit(\n",
    "    [encoder_input, decoder_input],\n",
    "    decoder_output,\n",
    "    batch_size=batch_size,\n",
    "    epochs=40,\n",
    "    validation_split=0.2\n",
    ")"
   ]
  },
  {
   "cell_type": "code",
   "execution_count": 43,
   "metadata": {
    "colab": {
     "base_uri": "https://localhost:8080/",
     "height": 428
    },
    "id": "57c2uRZaP-ge",
    "outputId": "a0d10a6e-913d-4a23-860c-321dde30a765"
   },
   "outputs": [
    {
     "data": {
      "image/png": "[encoded data removed]",
      "text/plain": [
       "<IPython.core.display.Image object>"
      ]
     },
     "execution_count": 43,
     "metadata": {
      "tags": []
     },
     "output_type": "execute_result"
    }
   ],
   "source": [
    "from keras.utils.vis_utils import plot_model\n",
    "plot_model(model_bi, to_file='model.png', show_shapes=True, show_layer_names=True)"
   ]
  },
  {
   "cell_type": "code",
   "execution_count": null,
   "metadata": {
    "id": "dlZvcbRCz-yr"
   },
   "outputs": [],
   "source": [
    " model_bi.save(\"drive/MyDrive/Model_bi_ML\")"
   ]
  },
  {
   "cell_type": "code",
   "execution_count": null,
   "metadata": {
    "id": "D8wRW0kE397v"
   },
   "outputs": [],
   "source": []
  },
  {
   "cell_type": "code",
   "execution_count": 25,
   "metadata": {
    "id": "8DhvC-k739_a"
   },
   "outputs": [],
   "source": [
    "input_token_index ={}\n",
    "for i in range(len(sort_orders)):\n",
    "  if i<k:\n",
    "    input_token_index[sort_orders[i][0]] =i\n",
    "  else:\n",
    "    input_token_index['OOV_Token'] =k+1"
   ]
  },
  {
   "cell_type": "code",
   "execution_count": 26,
   "metadata": {
    "id": "SApxIcya3-CM"
   },
   "outputs": [],
   "source": [
    "target_token_index = input_token_index"
   ]
  },
  {
   "cell_type": "code",
   "execution_count": 27,
   "metadata": {
    "id": "e6ZCSAXf3fRO"
   },
   "outputs": [],
   "source": [
    "import keras"
   ]
  },
  {
   "cell_type": "code",
   "execution_count": 28,
   "metadata": {
    "id": "cf8OFU8Vz-9C"
   },
   "outputs": [],
   "source": [
    "decoder_state_input_h = Input(shape=(n_units*2,))\n",
    "decoder_state_input_c = Input(shape=(n_units*2,))\n",
    "decoder_states_inputs = [decoder_state_input_h, decoder_state_input_c]\n",
    "decoder_outputs, state_h, state_c = decoder_lstm(decoder_inputs, initial_state=decoder_states_inputs)\n",
    "decoder_states = [state_h, state_c]\n",
    "decoder_outputs = decoder_dense(decoder_outputs)\n",
    "decoder_model = Model([decoder_inputs] + decoder_states_inputs, [decoder_outputs] + decoder_states) "
   ]
  },
  {
   "cell_type": "code",
   "execution_count": 29,
   "metadata": {
    "id": "gpdqntXb5eAQ"
   },
   "outputs": [],
   "source": [
    "max_len_target=16"
   ]
  },
  {
   "cell_type": "code",
   "execution_count": 30,
   "metadata": {
    "id": "M05aDOf_hnzs"
   },
   "outputs": [],
   "source": [
    "reverse_input_char_index = dict((i, char) for char, i in input_token_index.items())\n",
    "reverse_target_char_index = dict((i, char) for char, i in target_token_index.items())"
   ]
  },
  {
   "cell_type": "code",
   "execution_count": 31,
   "metadata": {
    "id": "Dwjvpgjxiecj"
   },
   "outputs": [],
   "source": [
    "reverse_target_char_index[400]='OOV'"
   ]
  },
  {
   "cell_type": "code",
   "execution_count": 32,
   "metadata": {
    "id": "84AYh5RYPOgm"
   },
   "outputs": [],
   "source": [
    "\n",
    "\n",
    "encoder_model= keras.Model(encoder_inputs, encoder_states)\n",
    "\n",
    "def decode_sequence(input_seq):\n",
    "    # Encode the input as state vectors.\n",
    "    states_value = encoder_model.predict(input_seq)\n",
    "\n",
    "    # Generate empty target sequence of length 1.\n",
    "    target_seq = np.zeros((1, 1, num_decoder_tokens))\n",
    "    # Populate the first character of target sequence with the start character.\n",
    "    # target_seq[0, 0, target_token_index[\"SOS\"]] = 1.0\n",
    "\n",
    "    # Sampling loop for a batch of sequences\n",
    "    # (to simplify, here we assume a batch of size 1).\n",
    "    stop_condition = False\n",
    "    decoded_sentence = \"\"\n",
    "    decoded_list=[]\n",
    "    while not stop_condition:\n",
    "        output_tokens, h, c = decoder_model.predict([target_seq] + states_value)\n",
    "\n",
    "        # Sample a token\n",
    "        sampled_token_index = np.argmax(output_tokens[0, -1, :])\n",
    "        sampled_char = reverse_target_char_index[sampled_token_index]\n",
    "        decoded_sentence += sampled_char\n",
    "        decoded_sentence += ' '\n",
    "        # decoded_list.append(sampled_char)\n",
    "\n",
    "        # Exit condition: either hit max length\n",
    "        # or find stop character.\n",
    "        if sampled_char == \"EOS\" or len(decoded_sentence) > max_len_target:\n",
    "            stop_condition = True\n",
    "        # if len(decoded_sentence) > max_len_target:\n",
    "        #     stop_condition = True\n",
    "\n",
    "        # Update the target sequence (of length 1).\n",
    "        target_seq = np.zeros((1, 1, num_decoder_tokens))\n",
    "        target_seq[0, 0, sampled_token_index] = 1.0\n",
    "\n",
    "        # Update states\n",
    "        states_value = [h, c]\n",
    "    return decoded_sentence"
   ]
  },
  {
   "cell_type": "code",
   "execution_count": 32,
   "metadata": {
    "id": "GG4IExla4Jhe"
   },
   "outputs": [],
   "source": []
  },
  {
   "cell_type": "code",
   "execution_count": 40,
   "metadata": {
    "colab": {
     "base_uri": "https://localhost:8080/"
    },
    "id": "igT-PfMj4Jkk",
    "outputId": "36e9fbde-a779-49a2-d7f7-f21c4d8cc69b"
   },
   "outputs": [
    {
     "name": "stdout",
     "output_type": "stream",
     "text": [
      "['SOS', 'barb', 'is', 'always', 'here', 'EOS', 'PAD', 'PAD', 'PAD', 'PAD', 'PAD', 'PAD', 'PAD', 'PAD', 'PAD', 'PAD']\n",
      "OOV is always here \n"
     ]
    }
   ],
   "source": [
    "i=1072\n",
    "input_seq = encoder_input[i:i+1]\n",
    "# print(\"Input sentence:\", input_seq.shape)\n",
    "decoded_sentence = decode_sequence(input_seq)\n",
    "print(x_train[i])\n",
    "print(decoded_sentence)\n",
    "# print(\"-\")"
   ]
  },
  {
   "cell_type": "markdown",
   "metadata": {
    "id": "TTAThWMF78cq"
   },
   "source": [
    "# a)"
   ]
  },
  {
   "cell_type": "code",
   "execution_count": 42,
   "metadata": {
    "colab": {
     "base_uri": "https://localhost:8080/",
     "height": 279
    },
    "id": "BnECnJan4JmS",
    "outputId": "3743cc41-de13-4a29-8f6a-6ec50c3b1f70"
   },
   "outputs": [
    {
     "data": {
      "image/png": "[encoded data removed]",
      "text/plain": [
       "<Figure size 432x288 with 1 Axes>"
      ]
     },
     "metadata": {
      "needs_background": "light",
      "tags": []
     },
     "output_type": "display_data"
    }
   ],
   "source": [
    "\n",
    "import matplotlib.pyplot as plt\n",
    "training_loss = history.history['loss']\n",
    "\n",
    "epochs = range(40)\n",
    "plt.plot(epochs, training_loss, 'g', label='Validation loss')\n",
    "\n",
    "plt.xlabel('Epochs')\n",
    "plt.ylabel('Loss')\n",
    "plt.legend()\n",
    "plt.show()"
   ]
  },
  {
   "cell_type": "code",
   "execution_count": null,
   "metadata": {
    "id": "_90jeH5f4Jol"
   },
   "outputs": [],
   "source": []
  },
  {
   "cell_type": "markdown",
   "metadata": {
    "id": "Z2X32mEv8AXZ"
   },
   "source": [
    "# b)"
   ]
  },
  {
   "cell_type": "code",
   "execution_count": 44,
   "metadata": {
    "id": "fpEsi-474JrD"
   },
   "outputs": [],
   "source": [
    "f_test= open('drive/MyDrive/yelp/test.txt')"
   ]
  },
  {
   "cell_type": "code",
   "execution_count": 45,
   "metadata": {
    "id": "6FUOaKBo8FMc"
   },
   "outputs": [],
   "source": [
    "x_test=[]\n",
    "for line in f_test:\n",
    "  l=[]\n",
    "  line = line.split()\n",
    "  line.pop()\n",
    "  line.append('EOS')\n",
    "  line.insert(0,'SOS')\n",
    "  size = len(line)\n",
    "  for word in line:\n",
    "    l.append(word)\n",
    "  while(size<17):\n",
    "    l.append('PAD')\n",
    "    size+=1\n",
    "  x_test.append(l)"
   ]
  },
  {
   "cell_type": "code",
   "execution_count": 46,
   "metadata": {
    "colab": {
     "base_uri": "https://localhost:8080/"
    },
    "id": "iKf3Wo0M9wEn",
    "outputId": "c81cd3ec-d324-4719-b69e-538ca734ee08"
   },
   "outputs": [
    {
     "data": {
      "text/plain": [
       "10000"
      ]
     },
     "execution_count": 46,
     "metadata": {
      "tags": []
     },
     "output_type": "execute_result"
    }
   ],
   "source": [
    "len(x_test)"
   ]
  },
  {
   "cell_type": "code",
   "execution_count": 47,
   "metadata": {
    "id": "iagTFjCN4l5h"
   },
   "outputs": [],
   "source": [
    "encoder_input=[]\n",
    "decoder_output=[]\n",
    "for i in range(len(x_train)):\n",
    "  e=[]\n",
    "  x = x_train[i]\n",
    "  size = len(x)\n",
    "  for j in x:\n",
    "    index = dict_index[j]\n",
    "    e.append(np.array(vectors[index]))\n",
    "\n",
    "  ee = e[1:]\n",
    "  ee.append(np.array(vectors[0]))\n",
    "  encoder_input.append(np.array(e))\n",
    "  decoder_output.append(np.array(ee))"
   ]
  },
  {
   "cell_type": "code",
   "execution_count": 48,
   "metadata": {
    "id": "ia8sYFp7-C6j"
   },
   "outputs": [],
   "source": [
    "encoder_input_test=[]\n",
    "decoder_input_test=[]\n",
    "for i in range(len(x_test)):\n",
    "  e=[]\n",
    "  x = x_test[i]\n",
    "  for j in x:\n",
    "    if (j in dict_index):\n",
    "      index = dict_index[j]\n",
    "    else:\n",
    "      index=k\n",
    "    e.append(np.array(vectors[index]))\n",
    "  # for i_rem in range(len(x),max_len):\n",
    "  #   e.append(np.zeros(k+1))\n",
    " \n",
    "  # print(type(emb_test))\n",
    "  ee = e[1:]\n",
    "  ee.append(np.array(vectors[0]))\n",
    "  decoder_input_test.append(np.array(ee))\n",
    "  encoder_input_test.append(np.array(e))"
   ]
  },
  {
   "cell_type": "code",
   "execution_count": 49,
   "metadata": {
    "id": "fZUPsbbY8FTl"
   },
   "outputs": [],
   "source": [
    "encoder_input_test = np.array(encoder_input_test)"
   ]
  },
  {
   "cell_type": "code",
   "execution_count": 50,
   "metadata": {
    "id": "3yrjE9DL4_Oq"
   },
   "outputs": [],
   "source": [
    "decoder_input_test = np.array(decoder_input_test)"
   ]
  },
  {
   "cell_type": "code",
   "execution_count": 51,
   "metadata": {
    "id": "W1bv3vYG5COK"
   },
   "outputs": [],
   "source": [
    "decoder_output_test  = encoder_input_test"
   ]
  },
  {
   "cell_type": "code",
   "execution_count": 52,
   "metadata": {
    "colab": {
     "base_uri": "https://localhost:8080/"
    },
    "id": "tUPVjQI65PKG",
    "outputId": "702ff353-f6fd-40c9-a1f0-b807bae851fb"
   },
   "outputs": [
    {
     "data": {
      "text/plain": [
       "(10000, 17, 401)"
      ]
     },
     "execution_count": 52,
     "metadata": {
      "tags": []
     },
     "output_type": "execute_result"
    }
   ],
   "source": [
    "decoder_input_test.shape"
   ]
  },
  {
   "cell_type": "code",
   "execution_count": null,
   "metadata": {
    "id": "F-S_keQn8FZC"
   },
   "outputs": [],
   "source": [
    "f_pred= open(\"predicted_sentences.txt\",\"w+\")\n",
    "\n",
    "for i in range(len(x_test)):\n",
    "  input_seq = encoder_input_test[i:i+1]\n",
    "# print(\"Input sentence:\", input_seq.shape)\n",
    "  decoded_sentence = decode_sequence(input_seq)\n",
    "  f_pred.write(decoded_sentence)\n",
    "  f_pred.write('\\n')\n",
    "\n",
    "\n",
    "  "
   ]
  },
  {
   "cell_type": "code",
   "execution_count": 2,
   "metadata": {
    "colab": {
     "base_uri": "https://localhost:8080/"
    },
    "id": "aGK4GNlD8FeN",
    "outputId": "91fee084-3676-4c18-ad49-dd7c674ae334"
   },
   "outputs": [
    {
     "name": "stdout",
     "output_type": "stream",
     "text": [
      "313/313 [==============================] - 2s 8ms/step - loss: 8.1470 - accuracy: 0.4778\n",
      "[0.062564666, 0.47780001163482666]\n"
     ]
    }
   ],
   "source": [
    "model_bi.evaluate([encoder_input_test,decoder_input_test],decoder_output_test)"
   ]
  },
  {
   "cell_type": "markdown",
   "metadata": {
    "id": "q-3JzqQj-27x"
   },
   "source": [
    "**Bleu score**"
   ]
  },
  {
   "cell_type": "code",
   "execution_count": null,
   "metadata": {
    "id": "eZKf6hNt8Fgw"
   },
   "outputs": [],
   "source": [
    "pip install --upgrade bleu"
   ]
  },
  {
   "cell_type": "code",
   "execution_count": null,
   "metadata": {
    "id": "tfJEVdVG_B2_"
   },
   "outputs": [],
   "source": [
    "pip install --upgrade git+git://github.com/zhijing-jin/bleu.git"
   ]
  },
  {
   "cell_type": "code",
   "execution_count": 86,
   "metadata": {
    "colab": {
     "base_uri": "https://localhost:8080/"
    },
    "id": "Y-nuWPzl_C2h",
    "outputId": "cd0bc642-e9ee-4ed6-8850-cb2db75dfc0b"
   },
   "outputs": [
    {
     "name": "stdout",
     "output_type": "stream",
     "text": [
      "48\n"
     ]
    }
   ],
   "source": [
    "from bleu import file_bleu\n",
    "hyp_file = f_pred\n",
    "\n",
    "file_bleu('drive/MyDrive/yelp/test.txt', 'predicted_sentences.txt')\n"
   ]
  },
  {
   "cell_type": "code",
   "execution_count": null,
   "metadata": {
    "id": "miVvQqe7B_Nj"
   },
   "outputs": [],
   "source": []
  },
  {
   "cell_type": "markdown",
   "metadata": {
    "id": "K4LKyJ6dEOpG"
   },
   "source": [
    "# d"
   ]
  },
  {
   "cell_type": "code",
   "execution_count": 55,
   "metadata": {
    "id": "Wo0QVWIbB_Rk"
   },
   "outputs": [],
   "source": [
    "f_1000pos= open('drive/MyDrive/yelp/sentiment/1000.pos')\n",
    "f_1000neg= open('drive/MyDrive/yelp/sentiment/1000.neg')\n",
    "f_100pos= open('drive/MyDrive/yelp/sentiment/100.pos')\n",
    "f_100neg= open('drive/MyDrive/yelp/sentiment/100.neg')"
   ]
  },
  {
   "cell_type": "code",
   "execution_count": 56,
   "metadata": {
    "id": "hdVDRXPPqmQP"
   },
   "outputs": [],
   "source": [
    "x_1000=[]\n",
    "for line in f_1000pos:\n",
    "  l=[]\n",
    "  line = line.split()\n",
    "  line.pop()\n",
    "  line.append('EOS')\n",
    "  line.insert(0,'SOS')\n",
    "  size = len(line)\n",
    "  for word in line:\n",
    "    l.append(word)\n",
    "  while(size<17):\n",
    "    l.append('PAD')\n",
    "    size+=1\n",
    "  x_1000.append(l)\n",
    "for line in f_1000neg:\n",
    "  l=[]\n",
    "  line = line.split()\n",
    "  line.pop()\n",
    "  line.append('EOS')\n",
    "  line.insert(0,'SOS')\n",
    "  size = len(line)\n",
    "  for word in line:\n",
    "    l.append(word)\n",
    "  while(size<17):\n",
    "    l.append('PAD')\n",
    "    size+=1\n",
    "  x_1000.append(l)"
   ]
  },
  {
   "cell_type": "code",
   "execution_count": 57,
   "metadata": {
    "id": "A60wKv9wyfYH"
   },
   "outputs": [],
   "source": [
    "x_100=[]\n",
    "for line in f_100pos:\n",
    "  l=[]\n",
    "  line = line.split()\n",
    "  line.pop()\n",
    "  line.append('EOS')\n",
    "  line.insert(0,'SOS')\n",
    "  size = len(line)\n",
    "  for word in line:\n",
    "    l.append(word)\n",
    "  while(size<17):\n",
    "    l.append('PAD')\n",
    "    size+=1\n",
    "  x_100.append(l)\n",
    "for line in f_100neg:\n",
    "  l=[]\n",
    "  line = line.split()\n",
    "  line.pop()\n",
    "  line.append('EOS')\n",
    "  line.insert(0,'SOS')\n",
    "  size = len(line)\n",
    "  for word in line:\n",
    "    l.append(word)\n",
    "  while(size<17):\n",
    "    l.append('PAD')\n",
    "    size+=1\n",
    "  x_100.append(l)"
   ]
  },
  {
   "cell_type": "code",
   "execution_count": 58,
   "metadata": {
    "id": "JivpQCv-rDK1"
   },
   "outputs": [],
   "source": [
    "encoder_input_1000=[]\n",
    "for i in range(len(x_1000)):\n",
    "  e=[]\n",
    "  x = x_1000[i]\n",
    "  for j in x:\n",
    "    if (j in dict_index):\n",
    "      index = dict_index[j]\n",
    "    else:\n",
    "      index=250\n",
    "    e.append(np.array(vectors[index]))\n",
    "  # for i_rem in range(len(x),max_len):\n",
    "  #   e.append(np.zeros(k+1))\n",
    " \n",
    "  # print(type(emb_test))\n",
    "  encoder_input_1000.append(np.array(e))"
   ]
  },
  {
   "cell_type": "code",
   "execution_count": 59,
   "metadata": {
    "id": "MFLqWx4-rQr-"
   },
   "outputs": [],
   "source": [
    "encoder_input_1000 = np.array(encoder_input_1000)"
   ]
  },
  {
   "cell_type": "code",
   "execution_count": 60,
   "metadata": {
    "id": "0HszZTXrzJTT"
   },
   "outputs": [],
   "source": [
    "encoder_input_100=[]\n",
    "for i in range(len(x_100)):\n",
    "  e=[]\n",
    "  x = x_100[i]\n",
    "  for j in x:\n",
    "    if (j in dict_index):\n",
    "      index = dict_index[j]\n",
    "    else:\n",
    "      index=250\n",
    "    e.append(np.array(vectors[index]))\n",
    "  # for i_rem in range(len(x),max_len):\n",
    "  #   e.append(np.zeros(k+1))\n",
    " \n",
    "  # print(type(emb_test))\n",
    "  encoder_input_100.append(np.array(e))"
   ]
  },
  {
   "cell_type": "code",
   "execution_count": 61,
   "metadata": {
    "id": "ydR6qGuHzYhV"
   },
   "outputs": [],
   "source": [
    "encoder_input_100 = np.array(encoder_input_100)"
   ]
  },
  {
   "cell_type": "code",
   "execution_count": 62,
   "metadata": {
    "colab": {
     "base_uri": "https://localhost:8080/"
    },
    "id": "dQ9SNwpI1AGv",
    "outputId": "a0c00fde-88a4-47dc-e200-b15e84ba9d6a"
   },
   "outputs": [
    {
     "data": {
      "text/plain": [
       "(200, 17, 401)"
      ]
     },
     "execution_count": 62,
     "metadata": {
      "tags": []
     },
     "output_type": "execute_result"
    }
   ],
   "source": [
    "encoder_input_100.shape"
   ]
  },
  {
   "cell_type": "code",
   "execution_count": 63,
   "metadata": {
    "id": "DLxqetHisE9z"
   },
   "outputs": [],
   "source": [
    "unsupervised_representation=[]"
   ]
  },
  {
   "cell_type": "code",
   "execution_count": 64,
   "metadata": {
    "id": "swADtk26rTSD"
   },
   "outputs": [],
   "source": [
    "for i in range(encoder_input_1000.shape[0]):\n",
    "  input_seq = encoder_input_1000[i:i+1]\n",
    "  states_value = encoder_model.predict(input_seq)\n",
    "  unsupervised_representation.append(states_value[0])"
   ]
  },
  {
   "cell_type": "code",
   "execution_count": 65,
   "metadata": {
    "id": "TZRn23ENsOaq"
   },
   "outputs": [],
   "source": [
    "unsupervised_representation = np.array(unsupervised_representation)"
   ]
  },
  {
   "cell_type": "code",
   "execution_count": 66,
   "metadata": {
    "colab": {
     "base_uri": "https://localhost:8080/"
    },
    "id": "lbQj3avhzerj",
    "outputId": "0c13f7c0-2bbd-4287-b9cc-88e77deef49f"
   },
   "outputs": [
    {
     "data": {
      "text/plain": [
       "(2000, 1, 200)"
      ]
     },
     "execution_count": 66,
     "metadata": {
      "tags": []
     },
     "output_type": "execute_result"
    }
   ],
   "source": [
    "unsupervised_representation.shape"
   ]
  },
  {
   "cell_type": "code",
   "execution_count": 67,
   "metadata": {
    "id": "DZeho8khzfAI"
   },
   "outputs": [],
   "source": [
    "unsupervised_representation_100=[]\n",
    "for i in range(encoder_input_100.shape[0]):\n",
    "  input_seq = encoder_input_100[i:i+1]\n",
    "  states_value = encoder_model.predict(input_seq)\n",
    "  unsupervised_representation_100.append(states_value[0])"
   ]
  },
  {
   "cell_type": "code",
   "execution_count": 68,
   "metadata": {
    "id": "l0W-UvGlz4_q"
   },
   "outputs": [],
   "source": [
    "unsupervised_representation_100 = np.array(unsupervised_representation_100)"
   ]
  },
  {
   "cell_type": "code",
   "execution_count": 69,
   "metadata": {
    "id": "ZkrgD6sOvu4Y"
   },
   "outputs": [],
   "source": [
    "unsupervised_representation_100= unsupervised_representation_100.reshape(200,-1)"
   ]
  },
  {
   "cell_type": "code",
   "execution_count": 70,
   "metadata": {
    "colab": {
     "base_uri": "https://localhost:8080/"
    },
    "id": "wDnb6LCM0mHL",
    "outputId": "4513218d-d3c7-4717-910f-e8ada5948151"
   },
   "outputs": [
    {
     "data": {
      "text/plain": [
       "(200, 200)"
      ]
     },
     "execution_count": 70,
     "metadata": {
      "tags": []
     },
     "output_type": "execute_result"
    }
   ],
   "source": [
    "unsupervised_representation_100.shape"
   ]
  },
  {
   "cell_type": "code",
   "execution_count": 71,
   "metadata": {
    "colab": {
     "base_uri": "https://localhost:8080/"
    },
    "id": "irRo6toF0rFt",
    "outputId": "a1846280-4e3e-4dc0-82ab-35de28f4c200"
   },
   "outputs": [
    {
     "data": {
      "text/plain": [
       "(2000, 1, 200)"
      ]
     },
     "execution_count": 71,
     "metadata": {
      "tags": []
     },
     "output_type": "execute_result"
    }
   ],
   "source": [
    "unsupervised_representation.shape"
   ]
  },
  {
   "cell_type": "code",
   "execution_count": 72,
   "metadata": {
    "id": "tq3ybEfSwWFO"
   },
   "outputs": [],
   "source": [
    "unsupervised_representation= unsupervised_representation.reshape(2000,-1)"
   ]
  },
  {
   "cell_type": "markdown",
   "metadata": {
    "id": "DideSM5d8UtV"
   },
   "source": [
    "**Pca for representing in 2 dimensions**"
   ]
  },
  {
   "cell_type": "code",
   "execution_count": 73,
   "metadata": {
    "id": "4tRzBL6IsSaL"
   },
   "outputs": [],
   "source": [
    "from sklearn.decomposition import PCA\n",
    "pca = PCA(n_components=2)\n",
    "pca.fit(unsupervised_representation)\n",
    "reduced_unsupervised_representation = pca.transform(unsupervised_representation)"
   ]
  },
  {
   "cell_type": "code",
   "execution_count": 74,
   "metadata": {
    "colab": {
     "base_uri": "https://localhost:8080/"
    },
    "id": "XZDe8A-tw2MZ",
    "outputId": "8f5ed611-4ecf-4fa5-e1f3-7034cbd4b398"
   },
   "outputs": [
    {
     "data": {
      "text/plain": [
       "(2000, 2)"
      ]
     },
     "execution_count": 74,
     "metadata": {
      "tags": []
     },
     "output_type": "execute_result"
    }
   ],
   "source": [
    "reduced_unsupervised_representation.shape"
   ]
  },
  {
   "cell_type": "code",
   "execution_count": 75,
   "metadata": {
    "id": "pkcbEJhYxJHp"
   },
   "outputs": [],
   "source": [
    "y=[]\n",
    "for i in range(1000):\n",
    "  y.append(0)\n",
    "for i in range(1000):\n",
    "  y.append(1)"
   ]
  },
  {
   "cell_type": "markdown",
   "metadata": {
    "id": "kn3yhWeytNxG"
   },
   "source": [
    " **Scatter plot**"
   ]
  },
  {
   "cell_type": "code",
   "execution_count": 76,
   "metadata": {
    "colab": {
     "base_uri": "https://localhost:8080/",
     "height": 279
    },
    "id": "p0D_ywjas4d-",
    "outputId": "b6b8f6bc-3cef-4dbd-dec0-95606d741382"
   },
   "outputs": [
    {
     "data": {
      "image/png": "[encoded data removed]",
      "text/plain": [
       "<Figure size 432x288 with 1 Axes>"
      ]
     },
     "metadata": {
      "needs_background": "light",
      "tags": []
     },
     "output_type": "display_data"
    }
   ],
   "source": [
    "plt.scatter(reduced_unsupervised_representation[:,0],reduced_unsupervised_representation[:,1],c=y)\n",
    "plt.xlabel('First component')\n",
    "plt.ylabel('second component')\n",
    "plt.show()\n"
   ]
  },
  {
   "cell_type": "markdown",
   "metadata": {
    "id": "EkblV-pcyEs_"
   },
   "source": [
    "# e"
   ]
  },
  {
   "cell_type": "code",
   "execution_count": 77,
   "metadata": {
    "colab": {
     "base_uri": "https://localhost:8080/"
    },
    "id": "CJstFpDiwuJP",
    "outputId": "b5063953-9df4-45a0-f7b3-27363c815da3"
   },
   "outputs": [
    {
     "name": "stderr",
     "output_type": "stream",
     "text": [
      "/usr/local/lib/python3.7/dist-packages/sklearn/linear_model/_logistic.py:940: ConvergenceWarning: lbfgs failed to converge (status=1):\n",
      "STOP: TOTAL NO. of ITERATIONS REACHED LIMIT.\n",
      "\n",
      "Increase the number of iterations (max_iter) or scale the data as shown in:\n",
      "    https://scikit-learn.org/stable/modules/preprocessing.html\n",
      "Please also refer to the documentation for alternative solver options:\n",
      "    https://scikit-learn.org/stable/modules/linear_model.html#logistic-regression\n",
      "  extra_warning_msg=_LOGISTIC_SOLVER_CONVERGENCE_MSG)\n"
     ]
    }
   ],
   "source": [
    "from sklearn.linear_model import LogisticRegression   \n",
    "clf = LogisticRegression(random_state=0).fit(unsupervised_representation, y)"
   ]
  },
  {
   "cell_type": "code",
   "execution_count": 78,
   "metadata": {
    "id": "ehlFridc12Mt"
   },
   "outputs": [],
   "source": [
    "y_100=[]\n",
    "for i in range(100):\n",
    "  y_100.append(0)\n",
    "for i in range(100):\n",
    "  y_100.append(1)"
   ]
  },
  {
   "cell_type": "code",
   "execution_count": 79,
   "metadata": {
    "id": "AeYGdKB2yWKv"
   },
   "outputs": [],
   "source": [
    "pred_labels_100 = clf.predict(unsupervised_representation_100)\n",
    "\n"
   ]
  },
  {
   "cell_type": "code",
   "execution_count": 80,
   "metadata": {
    "colab": {
     "base_uri": "https://localhost:8080/"
    },
    "id": "EIwahsHV1RL1",
    "outputId": "594ae862-9cb6-4035-a3fd-a4a01b4f33c6"
   },
   "outputs": [
    {
     "name": "stdout",
     "output_type": "stream",
     "text": [
      "Accuracy 0.79\n"
     ]
    }
   ],
   "source": [
    "count=0\n",
    "for i in range(200):\n",
    "  if(y_100[i] == pred_labels_100[i]):\n",
    "    count+=1\n",
    "print('Accuracy', (count/200))"
   ]
  },
  {
   "cell_type": "code",
   "execution_count": 80,
   "metadata": {
    "id": "OyjSbbH71Spp"
   },
   "outputs": [],
   "source": []
  },
  {
   "cell_type": "markdown",
   "metadata": {
    "id": "EPmfVZ5p24OA"
   },
   "source": [
    "# f"
   ]
  },
  {
   "cell_type": "code",
   "execution_count": 82,
   "metadata": {
    "id": "KQeCsH_8Cnph"
   },
   "outputs": [],
   "source": [
    "\n",
    "model = Sequential()\n",
    "model.add(Bidirectional(LSTM(100)))\n",
    "model.add(Dense(1, activation='sigmoid'))\n",
    "model.compile(loss='binary_crossentropy', optimizer='adam', metrics=['accuracy'])\n"
   ]
  },
  {
   "cell_type": "code",
   "execution_count": 83,
   "metadata": {
    "colab": {
     "base_uri": "https://localhost:8080/"
    },
    "id": "qrqmuKxZC798",
    "outputId": "37b91962-cf55-4407-a48f-52cdda639337"
   },
   "outputs": [
    {
     "name": "stdout",
     "output_type": "stream",
     "text": [
      "Epoch 1/50\n",
      "32/32 [==============================] - 13s 8ms/step - loss: 0.6786 - accuracy: 0.5662\n",
      "Epoch 2/50\n",
      "32/32 [==============================] - 0s 8ms/step - loss: 0.4171 - accuracy: 0.8165\n",
      "Epoch 3/50\n",
      "32/32 [==============================] - 0s 8ms/step - loss: 0.2657 - accuracy: 0.8958\n",
      "Epoch 4/50\n",
      "32/32 [==============================] - 0s 8ms/step - loss: 0.2277 - accuracy: 0.9050\n",
      "Epoch 5/50\n",
      "32/32 [==============================] - 0s 8ms/step - loss: 0.1849 - accuracy: 0.9219\n",
      "Epoch 6/50\n",
      "32/32 [==============================] - 0s 8ms/step - loss: 0.1608 - accuracy: 0.9457\n",
      "Epoch 7/50\n",
      "32/32 [==============================] - 0s 8ms/step - loss: 0.1657 - accuracy: 0.9343\n",
      "Epoch 8/50\n",
      "32/32 [==============================] - 0s 7ms/step - loss: 0.1359 - accuracy: 0.9526\n",
      "Epoch 9/50\n",
      "32/32 [==============================] - 0s 8ms/step - loss: 0.1104 - accuracy: 0.9600\n",
      "Epoch 10/50\n",
      "32/32 [==============================] - 0s 8ms/step - loss: 0.1224 - accuracy: 0.9533\n",
      "Epoch 11/50\n",
      "32/32 [==============================] - 0s 8ms/step - loss: 0.1138 - accuracy: 0.9575\n",
      "Epoch 12/50\n",
      "32/32 [==============================] - 0s 8ms/step - loss: 0.0848 - accuracy: 0.9715\n",
      "Epoch 13/50\n",
      "32/32 [==============================] - 0s 8ms/step - loss: 0.0797 - accuracy: 0.9676\n",
      "Epoch 14/50\n",
      "32/32 [==============================] - 0s 8ms/step - loss: 0.0753 - accuracy: 0.9707\n",
      "Epoch 15/50\n",
      "32/32 [==============================] - 0s 8ms/step - loss: 0.0693 - accuracy: 0.9700\n",
      "Epoch 16/50\n",
      "32/32 [==============================] - 0s 8ms/step - loss: 0.0670 - accuracy: 0.9748\n",
      "Epoch 17/50\n",
      "32/32 [==============================] - 0s 8ms/step - loss: 0.0546 - accuracy: 0.9799\n",
      "Epoch 18/50\n",
      "32/32 [==============================] - 0s 8ms/step - loss: 0.0699 - accuracy: 0.9706\n",
      "Epoch 19/50\n",
      "32/32 [==============================] - 0s 8ms/step - loss: 0.0522 - accuracy: 0.9823\n",
      "Epoch 20/50\n",
      "32/32 [==============================] - 0s 8ms/step - loss: 0.0525 - accuracy: 0.9810\n",
      "Epoch 21/50\n",
      "32/32 [==============================] - 0s 8ms/step - loss: 0.0683 - accuracy: 0.9702\n",
      "Epoch 22/50\n",
      "32/32 [==============================] - 0s 9ms/step - loss: 0.0878 - accuracy: 0.9672\n",
      "Epoch 23/50\n",
      "32/32 [==============================] - 0s 9ms/step - loss: 0.0876 - accuracy: 0.9624\n",
      "Epoch 24/50\n",
      "32/32 [==============================] - 0s 8ms/step - loss: 0.0683 - accuracy: 0.9676\n",
      "Epoch 25/50\n",
      "32/32 [==============================] - 0s 8ms/step - loss: 0.0631 - accuracy: 0.9733\n",
      "Epoch 26/50\n",
      "32/32 [==============================] - 0s 9ms/step - loss: 0.0528 - accuracy: 0.9787\n",
      "Epoch 27/50\n",
      "32/32 [==============================] - 0s 9ms/step - loss: 0.0532 - accuracy: 0.9794\n",
      "Epoch 28/50\n",
      "32/32 [==============================] - 0s 9ms/step - loss: 0.0432 - accuracy: 0.9855\n",
      "Epoch 29/50\n",
      "32/32 [==============================] - 0s 8ms/step - loss: 0.0450 - accuracy: 0.9825\n",
      "Epoch 30/50\n",
      "32/32 [==============================] - 0s 8ms/step - loss: 0.0357 - accuracy: 0.9850\n",
      "Epoch 31/50\n",
      "32/32 [==============================] - 0s 8ms/step - loss: 0.0384 - accuracy: 0.9839\n",
      "Epoch 32/50\n",
      "32/32 [==============================] - 0s 8ms/step - loss: 0.0509 - accuracy: 0.9777\n",
      "Epoch 33/50\n",
      "32/32 [==============================] - 0s 8ms/step - loss: 0.0373 - accuracy: 0.9871\n",
      "Epoch 34/50\n",
      "32/32 [==============================] - 0s 7ms/step - loss: 0.0475 - accuracy: 0.9789\n",
      "Epoch 35/50\n",
      "32/32 [==============================] - 0s 8ms/step - loss: 0.0549 - accuracy: 0.9815\n",
      "Epoch 36/50\n",
      "32/32 [==============================] - 0s 7ms/step - loss: 0.0454 - accuracy: 0.9838\n",
      "Epoch 37/50\n",
      "32/32 [==============================] - 0s 8ms/step - loss: 0.0486 - accuracy: 0.9753\n",
      "Epoch 38/50\n",
      "32/32 [==============================] - 0s 8ms/step - loss: 0.0633 - accuracy: 0.9694\n",
      "Epoch 39/50\n",
      "32/32 [==============================] - 0s 8ms/step - loss: 0.0354 - accuracy: 0.9858\n",
      "Epoch 40/50\n",
      "32/32 [==============================] - 0s 8ms/step - loss: 0.0284 - accuracy: 0.9890\n",
      "Epoch 41/50\n",
      "32/32 [==============================] - 0s 8ms/step - loss: 0.0302 - accuracy: 0.9882\n",
      "Epoch 42/50\n",
      "32/32 [==============================] - 0s 8ms/step - loss: 0.0337 - accuracy: 0.9845\n",
      "Epoch 43/50\n",
      "32/32 [==============================] - 0s 8ms/step - loss: 0.0394 - accuracy: 0.9819\n",
      "Epoch 44/50\n",
      "32/32 [==============================] - 0s 8ms/step - loss: 0.0268 - accuracy: 0.9879\n",
      "Epoch 45/50\n",
      "32/32 [==============================] - 0s 8ms/step - loss: 0.0278 - accuracy: 0.9868\n",
      "Epoch 46/50\n",
      "32/32 [==============================] - 0s 8ms/step - loss: 0.0341 - accuracy: 0.9855\n",
      "Epoch 47/50\n",
      "32/32 [==============================] - 0s 8ms/step - loss: 0.0435 - accuracy: 0.9796\n",
      "Epoch 48/50\n",
      "32/32 [==============================] - 0s 8ms/step - loss: 0.0687 - accuracy: 0.9768\n",
      "Epoch 49/50\n",
      "32/32 [==============================] - 0s 9ms/step - loss: 0.0438 - accuracy: 0.9802\n",
      "Epoch 50/50\n",
      "32/32 [==============================] - 0s 9ms/step - loss: 0.0532 - accuracy: 0.9798\n"
     ]
    }
   ],
   "source": [
    "model.fit(encoder_input_1000, np.array(y), epochs=50, batch_size=64)\n",
    "#evaluation of the model on Train data\n",
    "scores = model.evaluate(encoder_input_1000, np.array(y), verbose=0)"
   ]
  },
  {
   "cell_type": "markdown",
   "metadata": {
    "id": "a7gSpjZKGLod"
   },
   "source": [
    "**Accuracy on train = .98**"
   ]
  },
  {
   "cell_type": "code",
   "execution_count": 84,
   "metadata": {
    "id": "PacdJl79Djxj"
   },
   "outputs": [],
   "source": [
    "#evaluation of the model on Train data\n",
    "scores = model.evaluate(encoder_input_100, np.array(y_100), verbose=0)"
   ]
  },
  {
   "cell_type": "code",
   "execution_count": 85,
   "metadata": {
    "colab": {
     "base_uri": "https://localhost:8080/"
    },
    "id": "PiXjZqfhF4cN",
    "outputId": "88f69ea2-1fb0-4008-e038-aaba7d30fc7c"
   },
   "outputs": [
    {
     "data": {
      "text/plain": [
       "[0.9878749251365662, 0.8149999976158142]"
      ]
     },
     "execution_count": 85,
     "metadata": {
      "tags": []
     },
     "output_type": "execute_result"
    }
   ],
   "source": [
    "scores"
   ]
  },
  {
   "cell_type": "markdown",
   "metadata": {
    "id": "9nQFy-ABGPmw"
   },
   "source": [
    "**Accuracy on test = 0.81**"
   ]
  },
  {
   "cell_type": "markdown",
   "metadata": {
    "id": "Tsmh6P8QF69z"
   },
   "source": [
    "I have referred following link for this question:\n",
    "https://blog.keras.io/a-ten-minute-introduction-to-sequence-to-sequence-learning-in-keras.html"
   ]
  },
  {
   "cell_type": "code",
   "execution_count": null,
   "metadata": {},
   "outputs": [],
   "source": []
  }
 ],
 "metadata": {
  "accelerator": "GPU",
  "colab": {
   "collapsed_sections": [
    "rqA2JkxP7BcS",
    "f3ZKFO0j7u17",
    "TTAThWMF78cq",
    "K4LKyJ6dEOpG",
    "EkblV-pcyEs_",
    "EPmfVZ5p24OA"
   ],
   "name": "ML_A2_Q2.ipynb",
   "provenance": []
  },
  "kernelspec": {
   "display_name": "Python 3",
   "language": "python",
   "name": "python3"
  },
  "language_info": {
   "codemirror_mode": {
    "name": "ipython",
    "version": 3
   },
   "file_extension": ".py",
   "mimetype": "text/x-python",
   "name": "python",
   "nbconvert_exporter": "python",
   "pygments_lexer": "ipython3",
   "version": "3.6.5"
  }
 },
 "nbformat": 4,
 "nbformat_minor": 1
}
